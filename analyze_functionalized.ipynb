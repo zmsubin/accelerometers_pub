{
 "cells": [
  {
   "cell_type": "code",
   "execution_count": null,
   "id": "ee91f8bf-4093-4bba-92e5-003dc4cfdae2",
   "metadata": {
    "tags": []
   },
   "outputs": [],
   "source": [
    "import pandas as pd\n",
    "import numpy as np\n",
    "import pathlib\n",
    "import matplotlib.pyplot as plt\n",
    "import sys\n",
    "sys.path.append('ext')\n",
    "import plot_util\n",
    "import accelerometers"
   ]
  },
  {
   "cell_type": "code",
   "execution_count": null,
   "id": "53f73f49-a309-4d07-9a07-321984d062bd",
   "metadata": {
    "tags": []
   },
   "outputs": [],
   "source": [
    "inputdir = pathlib.Path.cwd() / 'inputdata'"
   ]
  },
  {
   "cell_type": "code",
   "execution_count": null,
   "id": "335dea9e-c18c-4ef3-bcc0-eddc05365b8a",
   "metadata": {
    "tags": []
   },
   "outputs": [],
   "source": [
    "outputdir = pathlib.Path.cwd() / 'outputdata'\n",
    "outputdir.mkdir(exist_ok=True)"
   ]
  },
  {
   "cell_type": "code",
   "execution_count": null,
   "id": "556ec7e6-5d40-4589-ac06-82d8e6856964",
   "metadata": {
    "tags": []
   },
   "outputs": [],
   "source": [
    "pathlib.Path.cwd()"
   ]
  },
  {
   "cell_type": "code",
   "execution_count": null,
   "id": "bb9790be-80da-4a8b-b58c-25606b7860d6",
   "metadata": {
    "tags": []
   },
   "outputs": [],
   "source": [
    "files = list(inputdir.glob('*/*/Accelerometer.csv'))\n",
    "files"
   ]
  },
  {
   "cell_type": "code",
   "execution_count": null,
   "id": "f1002167-d79d-4666-9432-ffe3564b6d07",
   "metadata": {
    "tags": []
   },
   "outputs": [],
   "source": [
    "for file in files:\n",
    "    if len(files) > 5:\n",
    "        suppress_figures = True\n",
    "    else:\n",
    "        suppress_figures = False\n",
    "    df = accelerometers.clean_file(file)\n",
    "\n",
    "    title = str(file.parents[1].stem) + '-- ' + str(file.parent.stem)\n",
    "    print('\\n', title)\n",
    "    \n",
    "    # Norm over time, in units of g-force\n",
    "    plt.figure()\n",
    "    plot_util.generic_plot(accelerometers.smooth(df[['g-force']], 100), kind='line', xlabel='Sec Elapsed', ylabel='g',\n",
    "                           title=title + '_gforce', output_directory=outputdir)\n",
    "    ps = accelerometers.ps(df, smooth_window=100)\n",
    "    if suppress_figures:\n",
    "        plt.close()\n",
    "\n",
    "    # Log power spectrum\n",
    "    plt.figure()\n",
    "    plot_util.generic_plot(np.log10(ps[accelerometers.POWER_LABEL]), kind='line', xlabel='Hz', ylabel='log10(W/kg/Hz)',\n",
    "                           title=title, output_directory=outputdir)\n",
    "    if suppress_figures:\n",
    "        plt.close()\n",
    "\n",
    "\n",
    "    # Log power spectrum\n",
    "    plt.figure()\n",
    "    plot_util.generic_plot(np.log10(ps[accelerometers.POWER_LABEL]).rename(np.log10, axis=0), kind='line', xlabel='Hz', ylabel='log10(W/kg/Hz)',\n",
    "                           title=title + '_logx', output_directory=outputdir)\n",
    "    if suppress_figures:\n",
    "        plt.close()\n",
    "    \n",
    "    total_pow = np.trapz(ps[accelerometers.POWER_LABEL], x=ps.index)\n",
    "    print('Total Power: ' + str(int(total_pow)) + ' W/kg')\n",
    "    print('Mean g-force: ' + str(df['g-force'].mean().round(2)) + \" g's\")\n"
   ]
  },
  {
   "cell_type": "code",
   "execution_count": null,
   "id": "97458199-7ca5-4d16-9b96-f914f92552c5",
   "metadata": {},
   "outputs": [],
   "source": []
  }
 ],
 "metadata": {
  "kernelspec": {
   "display_name": "Python 3 (ipykernel)",
   "language": "python",
   "name": "python3"
  },
  "language_info": {
   "codemirror_mode": {
    "name": "ipython",
    "version": 3
   },
   "file_extension": ".py",
   "mimetype": "text/x-python",
   "name": "python",
   "nbconvert_exporter": "python",
   "pygments_lexer": "ipython3",
   "version": "3.11.4"
  }
 },
 "nbformat": 4,
 "nbformat_minor": 5
}
