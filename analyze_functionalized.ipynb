{
 "cells": [
  {
   "cell_type": "code",
   "execution_count": null,
   "id": "ee91f8bf-4093-4bba-92e5-003dc4cfdae2",
   "metadata": {
    "tags": []
   },
   "outputs": [],
   "source": [
    "import pandas as pd\n",
    "import numpy as np\n",
    "import pathlib\n",
    "import matplotlib.pyplot as plt\n",
    "import sys\n",
    "sys.path.append('ext')\n",
    "import plot_util\n",
    "import accelerometers"
   ]
  },
  {
   "cell_type": "code",
   "execution_count": null,
   "id": "53f73f49-a309-4d07-9a07-321984d062bd",
   "metadata": {
    "tags": []
   },
   "outputs": [],
   "source": [
    "inputdir = pathlib.Path.cwd() / 'inputdata'"
   ]
  },
  {
   "cell_type": "code",
   "execution_count": null,
   "id": "335dea9e-c18c-4ef3-bcc0-eddc05365b8a",
   "metadata": {
    "tags": []
   },
   "outputs": [],
   "source": [
    "outputdir = pathlib.Path.cwd() / 'outputdata'\n",
    "outputdir.mkdir(exist_ok=True)"
   ]
  },
  {
   "cell_type": "code",
   "execution_count": null,
   "id": "556ec7e6-5d40-4589-ac06-82d8e6856964",
   "metadata": {
    "tags": []
   },
   "outputs": [],
   "source": [
    "pathlib.Path.cwd()"
   ]
  },
  {
   "cell_type": "code",
   "execution_count": null,
   "id": "bb9790be-80da-4a8b-b58c-25606b7860d6",
   "metadata": {
    "tags": []
   },
   "outputs": [],
   "source": [
    "# Adapt paths if needed.\n",
    "# I use two layers of sub-directories to link to an icloud directory with sub-directories named based on trip category.\n",
    "\n",
    "files = list(inputdir.glob('*/*/Accelerometer.csv'))\n",
    "{i: files[i] for i in np.arange(len(files))}"
   ]
  },
  {
   "cell_type": "code",
   "execution_count": null,
   "id": "f1002167-d79d-4666-9432-ffe3564b6d07",
   "metadata": {
    "tags": []
   },
   "outputs": [],
   "source": [
    "ps_collection = {} # Save for subsequent plots\n",
    "tot_pow_collection = {}\n",
    "g_collection = {}\n",
    "\n",
    "for file in files:\n",
    "    if len(files) > 5:\n",
    "        suppress_figures = True\n",
    "    else:\n",
    "        suppress_figures = False\n",
    "    df = accelerometers.clean_file(file)\n",
    "\n",
    "    title = str(file.parents[1].stem) + accelerometers.DELIMITTER + str(file.parent.stem)\n",
    "    print('\\n', title)\n",
    "    \n",
    "    # Norm over time, in units of g-force\n",
    "    if not pathlib.Path(outputdir / (title + '_gforce.png')).exists():\n",
    "        plt.figure()\n",
    "        plot_util.generic_plot(accelerometers.smooth(df[['g-force']], 100), kind='line', xlabel='Sec Elapsed', ylabel='g',\n",
    "                               title=title + '_gforce', output_directory=outputdir)\n",
    "        if suppress_figures:\n",
    "            plt.close()\n",
    "    ps = accelerometers.ps(df, smooth_window=100)\n",
    "        \n",
    "    # Save for later\n",
    "    ps_collection[title] = ps.copy()\n",
    "\n",
    "    # Log power spectrum\n",
    "    if not pathlib.Path(outputdir / (title + '.png')).exists():\n",
    "        plt.figure()\n",
    "        plot_util.generic_plot(np.log10(ps[accelerometers.POWER_LABEL]), kind='line', xlabel='Hz', ylabel='log10(W/kg/Hz)',\n",
    "                               title=title, output_directory=outputdir)\n",
    "        if suppress_figures:\n",
    "            plt.close()\n",
    "\n",
    "    # Log power spectrum\n",
    "    if not pathlib.Path(outputdir / (title + '_logx.png')).exists():\n",
    "        plt.figure()\n",
    "        plot_util.generic_plot(np.log10(ps[accelerometers.POWER_LABEL]).rename(np.log10, axis=0), kind='line', xlabel='log10(Hz)', ylabel='log10(W/kg/Hz)',\n",
    "                               title=title + '_logx', output_directory=outputdir)\n",
    "        if suppress_figures:\n",
    "            plt.close()\n",
    "    \n",
    "    total_pow = np.trapezoid(ps[accelerometers.POWER_LABEL], x=ps.index)\n",
    "    tot_pow_collection[title] = total_pow\n",
    "    g_collection[title] = df['g-force'].mean()\n",
    "    \n",
    "    print('Total Power: ' + str(int(total_pow)) + ' W/kg')\n",
    "    print('Mean g-force: ' + str(df['g-force'].mean().round(2)) + \" g's\")\n"
   ]
  },
  {
   "cell_type": "code",
   "execution_count": null,
   "id": "97458199-7ca5-4d16-9b96-f914f92552c5",
   "metadata": {},
   "outputs": [],
   "source": [
    "len(ps_collection)"
   ]
  },
  {
   "cell_type": "code",
   "execution_count": null,
   "id": "859af6c7-1c8a-4e04-a248-8aee0c3b332b",
   "metadata": {
    "tags": []
   },
   "outputs": [],
   "source": [
    "combined = accelerometers.interp_combine(ps_collection)"
   ]
  },
  {
   "cell_type": "code",
   "execution_count": null,
   "id": "72d65368-02b1-4907-acb7-0c034221419b",
   "metadata": {
    "tags": []
   },
   "outputs": [],
   "source": [
    "combined.to_csv(outputdir / 'Combined.csv')"
   ]
  },
  {
   "cell_type": "code",
   "execution_count": null,
   "id": "c642eae6-59e7-493a-bfaf-da4a16e6e34b",
   "metadata": {
    "tags": []
   },
   "outputs": [],
   "source": [
    "agg_stats_df = pd.DataFrame(index=['Power [W/kg]', 'g-force [-]'], columns=combined.columns)\n",
    "idx = pd.IndexSlice\n",
    "for col in combined:\n",
    "    agg_stats_df.loc[idx['Power [W/kg]'], idx[col[0], col[1]]] = tot_pow_collection[col[0] + accelerometers.DELIMITTER + col[1]]\n",
    "    agg_stats_df.loc[idx['g-force [-]'], idx[col[0], col[1]]] = g_collection[col[0] + accelerometers.DELIMITTER + col[1]]\n",
    "agg_stats_df.T"
   ]
  },
  {
   "cell_type": "code",
   "execution_count": null,
   "id": "841ef067-c597-422d-bbfc-c508dd7ac744",
   "metadata": {
    "tags": []
   },
   "outputs": [],
   "source": [
    "agg_stats_df.to_csv(outputdir / 'Aggregate Stats by Trip.csv')"
   ]
  },
  {
   "cell_type": "code",
   "execution_count": null,
   "id": "6a5c370e-4319-4200-ad3f-3404a195ac2e",
   "metadata": {
    "tags": []
   },
   "outputs": [],
   "source": [
    "# Take the log before the average to avoid domination of occasional noise\n",
    "# Equivalent to geometric rather than arithmetic mean\n",
    "combined_bycat_log = combined.map(np.log10).groupby('Category', axis=1).mean()\n",
    "plot_util.generic_plot(combined_bycat_log.rename(np.log10, axis=0), kind='line', xlabel='log10(Hz)', ylabel='log10(W/kg/Hz)',\n",
    "                       output_directory=outputdir, title='Average Power Spectra by Mode')\n",
    "\n"
   ]
  },
  {
   "cell_type": "code",
   "execution_count": null,
   "id": "455adb1e-c92f-4883-a7b2-38797903d6a5",
   "metadata": {
    "tags": []
   },
   "outputs": [],
   "source": [
    "grouped_stats = agg_stats_df.T.groupby(level=0).mean()\n",
    "grouped_stats.to_csv(outputdir / 'Grouped Aggregated Stats by Trip.csv')\n",
    "grouped_stats"
   ]
  },
  {
   "cell_type": "code",
   "execution_count": null,
   "id": "fc367870-3f92-4e42-aa23-ec16b6554a96",
   "metadata": {
    "tags": []
   },
   "outputs": [],
   "source": [
    "z_grouped_stats = (agg_stats_df.T.groupby(level=0).std() / agg_stats_df.T.groupby(level=0).mean()).map(lambda x: np.round(x, 2))\n",
    "z_grouped_stats.to_csv(outputdir / 'Z for Grouped Agg Stats by Trip.csv')\n",
    "z_grouped_stats"
   ]
  },
  {
   "cell_type": "code",
   "execution_count": null,
   "id": "1222bf7f-4ddf-46f6-88be-f2bd89b8159a",
   "metadata": {},
   "outputs": [],
   "source": []
  }
 ],
 "metadata": {
  "kernelspec": {
   "display_name": "Python 3 (ipykernel)",
   "language": "python",
   "name": "python3"
  },
  "language_info": {
   "codemirror_mode": {
    "name": "ipython",
    "version": 3
   },
   "file_extension": ".py",
   "mimetype": "text/x-python",
   "name": "python",
   "nbconvert_exporter": "python",
   "pygments_lexer": "ipython3",
   "version": "3.13.2"
  }
 },
 "nbformat": 4,
 "nbformat_minor": 5
}
