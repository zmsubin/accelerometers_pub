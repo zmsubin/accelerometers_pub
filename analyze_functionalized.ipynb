{
 "cells": [
  {
   "cell_type": "code",
   "execution_count": null,
   "id": "ee91f8bf-4093-4bba-92e5-003dc4cfdae2",
   "metadata": {
    "tags": []
   },
   "outputs": [],
   "source": [
    "import pandas as pd\n",
    "import numpy as np\n",
    "import pathlib\n",
    "import matplotlib.pyplot as plt\n",
    "import sys\n",
    "sys.path.append('ext')\n",
    "import plot_util\n",
    "import accelerometers"
   ]
  },
  {
   "cell_type": "code",
   "execution_count": null,
   "id": "53f73f49-a309-4d07-9a07-321984d062bd",
   "metadata": {
    "tags": []
   },
   "outputs": [],
   "source": [
    "inputdir = pathlib.Path.cwd() / 'inputdata'"
   ]
  },
  {
   "cell_type": "code",
   "execution_count": null,
   "id": "335dea9e-c18c-4ef3-bcc0-eddc05365b8a",
   "metadata": {
    "tags": []
   },
   "outputs": [],
   "source": [
    "outputdir = pathlib.Path.cwd() / 'outputdata'\n",
    "outputdir.mkdir(exist_ok=True)"
   ]
  },
  {
   "cell_type": "code",
   "execution_count": null,
   "id": "556ec7e6-5d40-4589-ac06-82d8e6856964",
   "metadata": {
    "tags": []
   },
   "outputs": [],
   "source": [
    "pathlib.Path.cwd()"
   ]
  },
  {
   "cell_type": "code",
   "execution_count": null,
   "id": "bb9790be-80da-4a8b-b58c-25606b7860d6",
   "metadata": {
    "tags": []
   },
   "outputs": [],
   "source": [
    "# Adapt paths if needed.\n",
    "# I use two layers of sub-directories to link to an icloud directory with sub-directories named based on trip category.\n",
    "\n",
    "files = list(inputdir.glob('*/*/Accelerometer.csv'))\n",
    "{i: files[i] for i in np.arange(len(files))}"
   ]
  },
  {
   "cell_type": "code",
   "execution_count": null,
   "id": "f1002167-d79d-4666-9432-ffe3564b6d07",
   "metadata": {
    "tags": []
   },
   "outputs": [],
   "source": [
    "ps_collection = {} # Save for subsequent plots\n",
    "tot_pow_collection = {}\n",
    "for file in files:\n",
    "    if len(files) > 5:\n",
    "        suppress_figures = True\n",
    "    else:\n",
    "        suppress_figures = False\n",
    "    df = accelerometers.clean_file(file)\n",
    "\n",
    "    title = str(file.parents[1].stem) + accelerometers.DELIMITTER + str(file.parent.stem)\n",
    "    print('\\n', title)\n",
    "    \n",
    "    # Norm over time, in units of g-force\n",
    "    plt.figure()\n",
    "    plot_util.generic_plot(accelerometers.smooth(df[['g-force']], 100), kind='line', xlabel='Sec Elapsed', ylabel='g',\n",
    "                           title=title + '_gforce', output_directory=outputdir)\n",
    "    ps = accelerometers.ps(df, smooth_window=100)\n",
    "    if suppress_figures:\n",
    "        plt.close()\n",
    "        \n",
    "    # Save for later\n",
    "    ps_collection[title] = ps.copy()\n",
    "\n",
    "    # Log power spectrum\n",
    "    plt.figure()\n",
    "    plot_util.generic_plot(np.log10(ps[accelerometers.POWER_LABEL]), kind='line', xlabel='Hz', ylabel='log10(W/kg/Hz)',\n",
    "                           title=title, output_directory=outputdir)\n",
    "    if suppress_figures:\n",
    "        plt.close()\n",
    "\n",
    "\n",
    "    # Log power spectrum\n",
    "    plt.figure()\n",
    "    plot_util.generic_plot(np.log10(ps[accelerometers.POWER_LABEL]).rename(np.log10, axis=0), kind='line', xlabel='log10(Hz)', ylabel='log10(W/kg/Hz)',\n",
    "                           title=title + '_logx', output_directory=outputdir)\n",
    "    if suppress_figures:\n",
    "        plt.close()\n",
    "    \n",
    "    total_pow = np.trapz(ps[accelerometers.POWER_LABEL], x=ps.index)\n",
    "    tot_pow_collection[title] = total_pow\n",
    "    \n",
    "    print('Total Power: ' + str(int(total_pow)) + ' W/kg')\n",
    "    print('Mean g-force: ' + str(df['g-force'].mean().round(2)) + \" g's\")\n"
   ]
  },
  {
   "cell_type": "code",
   "execution_count": null,
   "id": "97458199-7ca5-4d16-9b96-f914f92552c5",
   "metadata": {},
   "outputs": [],
   "source": [
    "len(ps_collection)"
   ]
  },
  {
   "cell_type": "code",
   "execution_count": null,
   "id": "859af6c7-1c8a-4e04-a248-8aee0c3b332b",
   "metadata": {
    "tags": []
   },
   "outputs": [],
   "source": [
    "combined = accelerometers.interp_combine(ps_collection)"
   ]
  },
  {
   "cell_type": "code",
   "execution_count": null,
   "id": "72d65368-02b1-4907-acb7-0c034221419b",
   "metadata": {
    "tags": []
   },
   "outputs": [],
   "source": [
    "combined.to_csv(outputdir / 'Combined.csv')"
   ]
  },
  {
   "cell_type": "code",
   "execution_count": null,
   "id": "c642eae6-59e7-493a-bfaf-da4a16e6e34b",
   "metadata": {
    "tags": []
   },
   "outputs": [],
   "source": [
    "tot_pow_df = pd.DataFrame(index=['W/kg'], columns=combined.columns)\n",
    "idx = pd.IndexSlice\n",
    "for col in combined:\n",
    "    tot_pow_df.loc[idx[:], idx[col[0], col[1]]] = tot_pow_collection[col[0] + accelerometers.DELIMITTER + col[1]]\n",
    "tot_pow_df"
   ]
  },
  {
   "cell_type": "code",
   "execution_count": null,
   "id": "841ef067-c597-422d-bbfc-c508dd7ac744",
   "metadata": {
    "tags": []
   },
   "outputs": [],
   "source": [
    "tot_pow_df.to_csv(outputdir / 'Total Power by Trip.csv')"
   ]
  },
  {
   "cell_type": "code",
   "execution_count": null,
   "id": "6a5c370e-4319-4200-ad3f-3404a195ac2e",
   "metadata": {
    "tags": []
   },
   "outputs": [],
   "source": [
    "# Take the log before the average to avoid domination of occasional noise\n",
    "# Equivalent to geometric rather than arithmetic mean\n",
    "combined_bycat_log = combined.map(np.log10).groupby('Category', axis=1).mean()\n",
    "plot_util.generic_plot(combined_bycat_log.rename(np.log10, axis=0), kind='line', xlabel='log10(Hz)', ylabel='log10(W/kg/Hz)',\n",
    "                       output_directory=outputdir, title='Average Power Spectra by Mode')\n",
    "\n"
   ]
  },
  {
   "cell_type": "raw",
   "id": "5c422ce1-f571-4240-93e4-f54e79dd06fd",
   "metadata": {},
   "source": [
    "# Experimenting with unlogging the axis labels -- still working.\n",
    "\n",
    "plt.xlim(-1, 1.5)\n",
    "xticks = plt.xticks()[0]\n",
    "plt.xticks(xticks, (10**xticks).round(1))\n",
    "plt.ylim(-0.8, 4.8)\n",
    "yticks = plt.yticks()[0]\n",
    "plt.yticks(yticks, [int(x) for x in 10**yticks])\n"
   ]
  },
  {
   "cell_type": "code",
   "execution_count": null,
   "id": "455adb1e-c92f-4883-a7b2-38797903d6a5",
   "metadata": {
    "tags": []
   },
   "outputs": [],
   "source": [
    "tot_pow_df.groupby(level=0, axis=1).mean().round(0)"
   ]
  },
  {
   "cell_type": "code",
   "execution_count": null,
   "id": "fc367870-3f92-4e42-aa23-ec16b6554a96",
   "metadata": {
    "tags": []
   },
   "outputs": [],
   "source": [
    "(tot_pow_df.map(np.log10).groupby(level=0, axis=1).std() / tot_pow_df.map(np.log10).groupby(level=0, axis=1).mean()).round(2)"
   ]
  },
  {
   "cell_type": "markdown",
   "id": "d70b1af3-233f-4bcc-bd04-a25332eff2ca",
   "metadata": {},
   "source": [
    "Everything from here down will need to be customized."
   ]
  },
  {
   "cell_type": "code",
   "execution_count": null,
   "id": "01a89cb9-4f33-439d-9622-0350001961f7",
   "metadata": {
    "tags": []
   },
   "outputs": [],
   "source": [
    "# Sub-select for easier viewing\n",
    "cats = ['Walking', 'BART', 'Muni Train', 'BensCar', 'Controls']\n",
    "plot_util.generic_plot(combined_bycat_log[cats].rename(np.log10, axis=0), kind='line', xlabel='log10(Hz)', ylabel='log10(W/kg/Hz)',\n",
    "                       output_directory=outputdir, title='Average Power Spectra by Mode, Selected Modes')"
   ]
  },
  {
   "cell_type": "code",
   "execution_count": null,
   "id": "e4280be7-8286-4e37-8bd9-869a5166c722",
   "metadata": {
    "tags": []
   },
   "outputs": [],
   "source": [
    "tot_pow_df.loc['W/kg', 'BART'].hist()"
   ]
  },
  {
   "cell_type": "code",
   "execution_count": null,
   "id": "a0b55cf3-feec-4afa-bfc1-c1723daf9d11",
   "metadata": {
    "tags": []
   },
   "outputs": [],
   "source": [
    "# Make combined plot of selected\n",
    "selected_idx = []\n",
    "{i:files[i] for i in selected_idx}"
   ]
  },
  {
   "cell_type": "code",
   "execution_count": null,
   "id": "3e5302fd-04ee-4b79-89ef-5916441e12d7",
   "metadata": {
    "tags": []
   },
   "outputs": [],
   "source": [
    "# Define common frequency range and interp\n",
    "freq = np.logspace(-1, 1.5, 500)\n",
    "small_combined = pd.DataFrame(index=freq)\n",
    "labels = []#['Biking, stable phone pos.', 'Stationary Control', 'Biking, phone in pocket',\n",
    "         #'BART, Rough', 'BART, Smoother', 'Driving', 'Walking, stable phone pos.']#, 'Walking, phone in pocket']\n",
    "for i in range(len(selected_idx)):\n",
    "    ps = list(ps_collection.values())[selected_idx[i]]\n",
    "    small_combined[labels[i]] = np.interp(x=small_combined.index, xp=ps.index, fp=ps[accelerometers.POWER_LABEL])\n",
    "small_combined.head()"
   ]
  },
  {
   "cell_type": "code",
   "execution_count": null,
   "id": "5c233b0f-eb1c-4b94-a94f-8189ca41aec8",
   "metadata": {
    "tags": []
   },
   "outputs": [],
   "source": [
    "plot_util.generic_plot(np.log10(small_combined).rename(np.log10, axis=0), kind='line', xlabel='log10(Hz)', ylabel='log10(W/kg/Hz)',\n",
    "                       output_directory=outputdir, title='Selected Power Spectra')"
   ]
  },
  {
   "cell_type": "code",
   "execution_count": null,
   "id": "a7c60111-6dce-4d78-bcee-626688130c2e",
   "metadata": {
    "tags": []
   },
   "outputs": [],
   "source": [
    "excerpt = []#['Walking, stable phone pos.', 'Driving', 'BART, Rough', 'BART, Smoother']\n",
    "plot_util.generic_plot(np.log10(small_combined[excerpt]).rename(np.log10, axis=0), kind='line', xlabel='log10(Hz)', ylabel='log10(W/kg/Hz)',\n",
    "                       output_directory=outputdir, title='Excerpted Power Spectra')"
   ]
  },
  {
   "cell_type": "code",
   "execution_count": null,
   "id": "76342c22-d952-4e42-86ca-0422bc6302bc",
   "metadata": {},
   "outputs": [],
   "source": []
  }
 ],
 "metadata": {
  "kernelspec": {
   "display_name": "Python 3 (ipykernel)",
   "language": "python",
   "name": "python3"
  },
  "language_info": {
   "codemirror_mode": {
    "name": "ipython",
    "version": 3
   },
   "file_extension": ".py",
   "mimetype": "text/x-python",
   "name": "python",
   "nbconvert_exporter": "python",
   "pygments_lexer": "ipython3",
   "version": "3.13.2"
  }
 },
 "nbformat": 4,
 "nbformat_minor": 5
}
