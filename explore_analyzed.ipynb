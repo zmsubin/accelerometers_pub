{
 "cells": [
  {
   "cell_type": "markdown",
   "id": "cd2461f7-f678-4bd2-9379-775662359ac0",
   "metadata": {},
   "source": [
    "# Read outputs of analyze_functionalized for further custom analysis"
   ]
  },
  {
   "cell_type": "code",
   "execution_count": null,
   "id": "ba39a5c5-a72d-46dd-870d-968eab62e468",
   "metadata": {},
   "outputs": [],
   "source": [
    "import pandas as pd\n",
    "import numpy as np\n",
    "import pathlib\n",
    "import matplotlib.pyplot as plt\n",
    "import sys\n",
    "sys.path.append('ext')\n",
    "import plot_util\n",
    "import accelerometers"
   ]
  },
  {
   "cell_type": "code",
   "execution_count": null,
   "id": "e38df431-6be6-48a6-b593-0fe31ada4c7a",
   "metadata": {},
   "outputs": [],
   "source": [
    "inputdir = pathlib.Path.cwd() / 'outputdata'\n",
    "# inputdir is previous outputdir\n",
    "outputdir = pathlib.Path.cwd() / 'outputdata' / 'explore'\n",
    "outputdir.mkdir(exist_ok=True)\n",
    "\n",
    "pathlib.Path.cwd()"
   ]
  },
  {
   "cell_type": "code",
   "execution_count": null,
   "id": "b1a2ea84-4e38-41ef-89e5-d4ddc874cdca",
   "metadata": {},
   "outputs": [],
   "source": [
    "combined = pd.read_csv(inputdir / 'Combined.csv', header=[0, 1], index_col=0)\n",
    "combined.head()"
   ]
  },
  {
   "cell_type": "code",
   "execution_count": null,
   "id": "7f3ef6b9-e5d2-4e79-9684-48f247ca82ba",
   "metadata": {},
   "outputs": [],
   "source": [
    "# Recreate standard combined average plot\n",
    "combined_bycat_log = combined.map(np.log10).groupby('Category', axis=1).mean()\n",
    "plot_util.generic_plot(combined_bycat_log.rename(np.log10, axis=0), kind='line', xlabel='Hz', ylabel='W/kg/Hz',\n",
    "                       output_directory=outputdir, title='Average Power Spectra by Mode',\n",
    "                       logx=True, logy=True)"
   ]
  },
  {
   "cell_type": "markdown",
   "id": "14ec51db-bf56-44a2-ab8d-75cee3feb4ec",
   "metadata": {},
   "source": [
    "From here down may need customization"
   ]
  },
  {
   "cell_type": "code",
   "execution_count": null,
   "id": "6eac4ca7-c133-4837-abc3-624ddd2f5b47",
   "metadata": {},
   "outputs": [],
   "source": [
    "# Let's look just at BART and Muni\n",
    "plot_util.generic_plot(combined_bycat_log.rename(np.log10, axis=0)[['Muni Train', 'BART']], kind='line', xlabel='log10(Hz)', ylabel='log10(W/kg/Hz)',\n",
    "                       output_directory=outputdir, title='Average Power Spectra by Mode, Selected')"
   ]
  },
  {
   "cell_type": "code",
   "execution_count": null,
   "id": "35a82c71-77b1-48b8-8f5f-a4b69833d81d",
   "metadata": {},
   "outputs": [],
   "source": [
    "# What does it look like removing the logy?\n",
    "plot_util.generic_plot((10**combined_bycat_log).rename(np.log10, axis=0)[['Muni Train', 'BART']], kind='line', xlabel='log10(Hz)', ylabel='W/kg/Hz',\n",
    "                       output_directory=outputdir, title='Average Power Spectra by Mode, Unlog-y')"
   ]
  },
  {
   "cell_type": "code",
   "execution_count": null,
   "id": "d456c019-3510-49d3-b70e-b4cfda04bcbc",
   "metadata": {},
   "outputs": [],
   "source": [
    "plot_util.generic_plot((10**combined_bycat_log).rename(np.log10, axis=0)[['Muni Train', 'BART']], kind='line', xlabel='log10(Hz)', ylabel='W/kg/Hz',\n",
    "                       output_directory=outputdir, title='Average Power Spectra by Mode, Unlog-y', xlim=[-0.75, 1.5], ylim=[0, 150])"
   ]
  },
  {
   "cell_type": "code",
   "execution_count": null,
   "id": "737f4a79-0e13-4083-9d0e-c8c15aa96d63",
   "metadata": {},
   "outputs": [],
   "source": [
    "# What does the raw BART trip set look like?\n",
    "idx = pd.IndexSlice\n",
    "subtrips = combined.loc[idx[:], idx['BART']]\n",
    "plot_util.generic_plot(subtrips.rename(np.log10, axis=0), kind='line', xlabel='log10(Hz)', ylabel='W/kg/Hz',\n",
    "                       output_directory=outputdir, title='Trip Power Spectra by Selected Mode')"
   ]
  },
  {
   "cell_type": "code",
   "execution_count": null,
   "id": "a8c017af-cb4a-4649-a8f3-155e647b36b1",
   "metadata": {},
   "outputs": [],
   "source": [
    "# Log them\n",
    "plot_util.generic_plot(subtrips.rename(np.log10, axis=0).map(np.log10), kind='line', xlabel='log10(Hz)', ylabel='log10(W/kg/Hz)',\n",
    "                       output_directory=outputdir, title='Logged Trip Power Spectra by Selected Mode')"
   ]
  },
  {
   "cell_type": "code",
   "execution_count": null,
   "id": "ed94fe55-15ce-4155-90b2-db0134f839d8",
   "metadata": {},
   "outputs": [],
   "source": [
    "combined_bycat_log.columns"
   ]
  },
  {
   "cell_type": "code",
   "execution_count": null,
   "id": "ce00d939-ad8e-49a9-8ffd-a15662d41cd9",
   "metadata": {},
   "outputs": [],
   "source": [
    "motorized_travel_modes = ['BART', 'Muni Train', 'Muni Bus', 'BensCar']\n",
    "plot_util.generic_plot(combined_bycat_log[motorized_travel_modes].rename(np.log10, axis=0), kind='line', xlabel='Hz', ylabel='W/kg/Hz',\n",
    "                       output_directory=outputdir, title='Average Power Spectra for Motorized Travel Modes',\n",
    "                       logx=True, logy=True)"
   ]
  },
  {
   "cell_type": "code",
   "execution_count": null,
   "id": "832d106f-3911-4d39-b99a-c5740f6be334",
   "metadata": {},
   "outputs": [],
   "source": [
    "# Let's integrate over three regimes\n",
    "bounds = [10**(-0.5), 10**(0.75)]\n",
    "bounds"
   ]
  },
  {
   "cell_type": "code",
   "execution_count": null,
   "id": "d909799c-982e-42b9-8738-a005bce3d9d1",
   "metadata": {},
   "outputs": [],
   "source": [
    "combined_bycat_log.head()"
   ]
  },
  {
   "cell_type": "code",
   "execution_count": null,
   "id": "8062a57e-849e-41b0-9212-583b2ed2641a",
   "metadata": {},
   "outputs": [],
   "source": [
    "pow_seg = pd.DataFrame(index=np.arange(len(bounds)+1), columns=combined_bycat_log.columns)\n",
    "for i in pow_seg.index:\n",
    "    if i == 0:\n",
    "        islice = combined_bycat_log.index <= bounds[i]\n",
    "    elif i < len(bounds):\n",
    "        islice = (combined_bycat_log.index > bounds[i-1]) & (combined_bycat_log.index <= bounds[i])\n",
    "    else:\n",
    "        islice = combined_bycat_log.index > bounds[i-1]\n",
    "    segment = combined_bycat_log.loc[islice]\n",
    "    for col in pow_seg.columns:\n",
    "        pow_seg.loc[i, col] = np.trapezoid(10**segment[col], x=segment.index)\n",
    "pow_seg"
   ]
  },
  {
   "cell_type": "code",
   "execution_count": null,
   "id": "135d6874-14f0-4d91-b84d-254966503a7b",
   "metadata": {},
   "outputs": [],
   "source": [
    "labels = {0: 'Bulk Acceleration', 1: 'Oscillation', 2: 'Vibration'}\n",
    "pow_seg = pow_seg.rename(labels)\n",
    "plot_util.generic_plot(pow_seg.map(np.log10).T, kind='bar', ylabel='W/kg', unstacked=True, title='Power by Freq. Range & Mode', output_directory=outputdir,\n",
    "                      logy=True, fontsize=9)"
   ]
  },
  {
   "cell_type": "code",
   "execution_count": null,
   "id": "4d4b7733-f556-44f8-aac4-178bce50a3cb",
   "metadata": {},
   "outputs": [],
   "source": [
    "plot_util.generic_plot(pow_seg[motorized_travel_modes].T, kind='bar', ylabel='W/kg', title='Power by Freq. Range for Motorized Modes', output_directory=outputdir)"
   ]
  },
  {
   "cell_type": "code",
   "execution_count": null,
   "id": "cebe1863-c1bb-4551-a8f1-2004beeba8e2",
   "metadata": {},
   "outputs": [],
   "source": []
  }
 ],
 "metadata": {
  "kernelspec": {
   "display_name": "Python 3 (ipykernel)",
   "language": "python",
   "name": "python3"
  },
  "language_info": {
   "codemirror_mode": {
    "name": "ipython",
    "version": 3
   },
   "file_extension": ".py",
   "mimetype": "text/x-python",
   "name": "python",
   "nbconvert_exporter": "python",
   "pygments_lexer": "ipython3",
   "version": "3.13.2"
  }
 },
 "nbformat": 4,
 "nbformat_minor": 5
}
