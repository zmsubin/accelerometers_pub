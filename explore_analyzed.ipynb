{
 "cells": [
  {
   "cell_type": "markdown",
   "id": "cd2461f7-f678-4bd2-9379-775662359ac0",
   "metadata": {},
   "source": [
    "# Read outputs of analyze_functionalized for further custom analysis"
   ]
  },
  {
   "cell_type": "code",
   "execution_count": null,
   "id": "ba39a5c5-a72d-46dd-870d-968eab62e468",
   "metadata": {},
   "outputs": [],
   "source": [
    "import pandas as pd\n",
    "import numpy as np\n",
    "import pathlib\n",
    "import matplotlib.pyplot as plt\n",
    "import sys\n",
    "sys.path.append('ext')\n",
    "import plot_util\n",
    "import accelerometers"
   ]
  },
  {
   "cell_type": "code",
   "execution_count": null,
   "id": "e38df431-6be6-48a6-b593-0fe31ada4c7a",
   "metadata": {},
   "outputs": [],
   "source": [
    "inputdir = pathlib.Path.cwd() / 'outputdata'\n",
    "# inputdir is previous outputdir\n",
    "outputdir = pathlib.Path.cwd() / 'outputdata' / 'explore'\n",
    "outputdir.mkdir(exist_ok=True)\n",
    "\n",
    "pathlib.Path.cwd()"
   ]
  },
  {
   "cell_type": "code",
   "execution_count": null,
   "id": "b1a2ea84-4e38-41ef-89e5-d4ddc874cdca",
   "metadata": {},
   "outputs": [],
   "source": [
    "combined = pd.read_csv(inputdir / 'Combined.csv', header=[0, 1], index_col=0)\n",
    "combined.head()"
   ]
  },
  {
   "cell_type": "code",
   "execution_count": null,
   "id": "7633b51c-8abe-4b79-a940-3ca1459c3b94",
   "metadata": {},
   "outputs": [],
   "source": [
    "combined.reset_index()"
   ]
  },
  {
   "cell_type": "code",
   "execution_count": null,
   "id": "dd631971-4de9-4d29-a410-c39bb47ceb56",
   "metadata": {},
   "outputs": [],
   "source": [
    "# Print number of trips by category\n",
    "print('Number of Trips')\n",
    "combined.groupby('Category', axis=1).count().T[combined.index[0]]"
   ]
  },
  {
   "cell_type": "code",
   "execution_count": null,
   "id": "7f3ef6b9-e5d2-4e79-9684-48f247ca82ba",
   "metadata": {},
   "outputs": [],
   "source": [
    "# Recreate standard combined average plot\n",
    "combined_bycat_log = combined.map(np.log10).groupby('Category', axis=1).mean()\n",
    "plot_util.generic_plot(combined_bycat_log.rename(np.log10, axis=0), kind='line', xlabel='Hz', ylabel='g$^2$/Hz',\n",
    "                       output_directory=outputdir, title='Average Power Spectra by Mode',\n",
    "                       logx=True, logy=True)"
   ]
  },
  {
   "cell_type": "code",
   "execution_count": null,
   "id": "749a2f24-d27d-4bf4-9adf-3edd6cd1e499",
   "metadata": {},
   "outputs": [],
   "source": [
    "# Plot all trips for each mode\n",
    "for cat in combined.columns.levels[0]:\n",
    "    print(cat)\n",
    "    plt.figure()\n",
    "    data = combined[cat].apply(np.log10).rename(np.log10, axis=0)\n",
    "    plot_util.generic_plot(data, kind='line', xlabel='Hz', ylabel='$g^2$/Hz',\n",
    "                       output_directory=outputdir, title='Power Spectra for all Trips, ' + cat,\n",
    "                       logx=True, logy=True)\n",
    "    plt.close()"
   ]
  },
  {
   "cell_type": "markdown",
   "id": "14ec51db-bf56-44a2-ab8d-75cee3feb4ec",
   "metadata": {},
   "source": [
    "From here down may need customization"
   ]
  },
  {
   "cell_type": "code",
   "execution_count": null,
   "id": "35bd791a-4c83-47e2-bb43-d36e5607b187",
   "metadata": {},
   "outputs": [],
   "source": [
    "# Look at cum rms\n",
    "cum_rms = combined_bycat_log.apply(lambda xx: (10**np.interp(fp=xx, xp=xx.index, x=np.arange(0.01, 30, 0.01))).cumsum()**0.5)"
   ]
  },
  {
   "cell_type": "code",
   "execution_count": null,
   "id": "c1749465-133b-471a-be01-bfcb74789058",
   "metadata": {},
   "outputs": [],
   "source": [
    "cum_rms_norm = cum_rms.apply(lambda x: x / x.max())\n",
    "cum_rms_norm = cum_rms_norm.rename(lambda x: np.log10(x * 0.01))\n",
    "plot_util.generic_plot(cum_rms_norm, 'line', output_directory=outputdir, title='Cum RMS', xlabel='Hz', logx=True)"
   ]
  },
  {
   "cell_type": "code",
   "execution_count": null,
   "id": "254294d8-1a98-4c08-b088-d85a9f060019",
   "metadata": {},
   "outputs": [],
   "source": []
  }
 ],
 "metadata": {
  "kernelspec": {
   "display_name": "Python 3 (ipykernel)",
   "language": "python",
   "name": "python3"
  },
  "language_info": {
   "codemirror_mode": {
    "name": "ipython",
    "version": 3
   },
   "file_extension": ".py",
   "mimetype": "text/x-python",
   "name": "python",
   "nbconvert_exporter": "python",
   "pygments_lexer": "ipython3",
   "version": "3.13.2"
  }
 },
 "nbformat": 4,
 "nbformat_minor": 5
}
