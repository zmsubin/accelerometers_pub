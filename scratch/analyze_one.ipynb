{
 "cells": [
  {
   "cell_type": "code",
   "execution_count": null,
   "id": "61c06c5f-1e3c-46db-af9a-3f6ec10fc802",
   "metadata": {},
   "outputs": [],
   "source": [
    "import pandas as pd\n",
    "import numpy as np\n",
    "import pathlib\n",
    "import matplotlib.pyplot as plt\n",
    "import sys\n",
    "sys.path.append('ext')"
   ]
  },
  {
   "cell_type": "code",
   "execution_count": null,
   "id": "572f8afa-8b0b-43ff-97a0-e945cfc0358c",
   "metadata": {
    "tags": []
   },
   "outputs": [],
   "source": [
    "import plot_util"
   ]
  },
  {
   "cell_type": "code",
   "execution_count": null,
   "id": "90731f0c-9f39-4ef2-89c9-c65a7f45c1f7",
   "metadata": {},
   "outputs": [],
   "source": [
    "inputdir = pathlib.Path.cwd() / 'inputdata' #/ 'Gforce'"
   ]
  },
  {
   "cell_type": "code",
   "execution_count": null,
   "id": "e6ba36e0-1c32-4f65-89e9-c78f8620f210",
   "metadata": {
    "tags": []
   },
   "outputs": [],
   "source": [
    "outputdir = pathlib.Path.cwd() / 'outputdata'\n",
    "outputdir.mkdir(exist_ok=True)"
   ]
  },
  {
   "cell_type": "code",
   "execution_count": null,
   "id": "56c7ddeb-4cdd-4f4b-baf9-06c94f479be6",
   "metadata": {},
   "outputs": [],
   "source": [
    "pathlib.Path.cwd()"
   ]
  },
  {
   "cell_type": "code",
   "execution_count": null,
   "id": "39a2a08e-a1ab-4235-b385-f69b08dd418d",
   "metadata": {},
   "outputs": [],
   "source": [
    "files = list(inputdir.glob('*/*/Accelerometer.csv'))\n",
    "files"
   ]
  },
  {
   "cell_type": "code",
   "execution_count": null,
   "id": "adb5ea9e-e4aa-4d9e-83cb-990ebb33573a",
   "metadata": {},
   "outputs": [],
   "source": [
    "# Start with first file to test\n",
    "file = files[3]\n",
    "data = pd.read_csv(file)\n",
    "data.head()"
   ]
  },
  {
   "cell_type": "code",
   "execution_count": null,
   "id": "0a4a731f-3811-46b3-9273-a48a947f4006",
   "metadata": {
    "tags": []
   },
   "outputs": [],
   "source": [
    "df = data.set_index('seconds_elapsed')[['x', 'y', 'z']]\n",
    "df.head()"
   ]
  },
  {
   "cell_type": "code",
   "execution_count": null,
   "id": "b97a5ea1-9b49-436f-b44b-3fcfff400884",
   "metadata": {
    "tags": []
   },
   "outputs": [],
   "source": [
    "len(df)"
   ]
  },
  {
   "cell_type": "code",
   "execution_count": null,
   "id": "c60e36db-a706-40a2-bd50-25c401b56b7c",
   "metadata": {
    "tags": []
   },
   "outputs": [],
   "source": [
    "df['norm'] = np.sqrt(df.apply(lambda x: x**2).sum(axis=1))\n",
    "df.head()"
   ]
  },
  {
   "cell_type": "code",
   "execution_count": null,
   "id": "c5c18027-9063-4155-8a77-e48a4313cab4",
   "metadata": {
    "tags": []
   },
   "outputs": [],
   "source": [
    "df.describe()"
   ]
  },
  {
   "cell_type": "code",
   "execution_count": null,
   "id": "6b899f46-d402-47da-b50f-a23e065f239e",
   "metadata": {
    "tags": []
   },
   "outputs": [],
   "source": [
    "df[['norm']].plot()"
   ]
  },
  {
   "cell_type": "code",
   "execution_count": null,
   "id": "c1d36aa2-a3cd-47d3-9b61-6ce15b7847d3",
   "metadata": {},
   "outputs": [],
   "source": [
    "# Double check units by comparing to uncalibrated -- if m/s^2 then should be offset by g"
   ]
  },
  {
   "cell_type": "code",
   "execution_count": null,
   "id": "05d48a31-bd1f-4ac6-bbdc-b5cd90970f0e",
   "metadata": {
    "tags": []
   },
   "outputs": [],
   "source": [
    "file_unc = str(file).replace('Accelerometer', 'AccelerometerUncalibrated')\n",
    "data_unc = pd.read_csv(file_unc)\n",
    "data_unc.head()"
   ]
  },
  {
   "cell_type": "code",
   "execution_count": null,
   "id": "24bfab61-8a83-4d1e-a4b1-a5cdcde544e6",
   "metadata": {
    "tags": []
   },
   "outputs": [],
   "source": [
    "df_unc = data_unc.set_index('seconds_elapsed')[['x', 'y', 'z']]\n",
    "df_unc['norm'] = np.sqrt(df_unc.apply(lambda x: x**2).sum(axis=1))\n",
    "df_unc.describe()"
   ]
  },
  {
   "cell_type": "code",
   "execution_count": null,
   "id": "6fbde5f6-b57f-47dc-8651-ea1a61d06154",
   "metadata": {
    "tags": []
   },
   "outputs": [],
   "source": [
    "# Looks like uncalibrated is units of g"
   ]
  },
  {
   "cell_type": "code",
   "execution_count": null,
   "id": "02e80d6d-eaa2-4d8f-ab59-1aed036a3562",
   "metadata": {
    "tags": []
   },
   "outputs": [],
   "source": [
    "# Make a function to clean file\n",
    "def clean_df_from_accel_file(filepath):\n",
    "    data = pd.read_csv(filepath)\n",
    "    data = data.set_index('seconds_elapsed')[['x', 'y', 'z']]\n",
    "    data['norm'] = np.sqrt(data.apply(lambda x: x**2).sum(axis=1))\n",
    "    return data"
   ]
  },
  {
   "cell_type": "code",
   "execution_count": null,
   "id": "6b3bfc1f-634d-449e-822c-dde55eddb636",
   "metadata": {
    "tags": []
   },
   "outputs": [],
   "source": [
    "df = clean_df_from_accel_file(file)\n",
    "df.head()"
   ]
  },
  {
   "cell_type": "code",
   "execution_count": null,
   "id": "edad59bf-7f55-46ba-ab30-ee96d6888f18",
   "metadata": {
    "tags": []
   },
   "outputs": [],
   "source": [
    "df.describe()"
   ]
  },
  {
   "cell_type": "code",
   "execution_count": null,
   "id": "348a6d3a-3414-4dd2-a87b-d809e37fc735",
   "metadata": {
    "tags": []
   },
   "outputs": [],
   "source": [
    "coords = ['x', 'y', 'z']"
   ]
  },
  {
   "cell_type": "code",
   "execution_count": null,
   "id": "d00b17cc-8987-4621-a550-b6f78d0dfd79",
   "metadata": {
    "tags": []
   },
   "outputs": [],
   "source": [
    "ps_vals = df[coords].apply(lambda x: np.abs(np.fft.rfft(x))**2)\n",
    "ps_vals.head()"
   ]
  },
  {
   "cell_type": "code",
   "execution_count": null,
   "id": "3aa301b6-96e8-48dd-ace8-725cf42e5499",
   "metadata": {
    "tags": []
   },
   "outputs": [],
   "source": [
    "df.index.max()"
   ]
  },
  {
   "cell_type": "code",
   "execution_count": null,
   "id": "c57fd054-dffe-47f7-804d-720b59579b68",
   "metadata": {
    "tags": []
   },
   "outputs": [],
   "source": [
    "len(df) / df.index.max()"
   ]
  },
  {
   "cell_type": "code",
   "execution_count": null,
   "id": "2e91c14e-6991-4a59-82bc-f9c3b045baa6",
   "metadata": {
    "tags": []
   },
   "outputs": [],
   "source": [
    "df.index.min()"
   ]
  },
  {
   "cell_type": "code",
   "execution_count": null,
   "id": "c49fcc51-6a14-4118-b346-fa7bd45e0e49",
   "metadata": {
    "tags": []
   },
   "outputs": [],
   "source": [
    "len(df) / (df.index.max() - df.index.min())"
   ]
  },
  {
   "cell_type": "code",
   "execution_count": null,
   "id": "1918e82b-93a8-4e78-b0ec-dc1f8b61e010",
   "metadata": {
    "tags": []
   },
   "outputs": [],
   "source": [
    "steps = df.index[1:] - df.index[:-1]\n",
    "steps.max()"
   ]
  },
  {
   "cell_type": "code",
   "execution_count": null,
   "id": "de68b05d-372e-4ac6-884d-d159971abc3f",
   "metadata": {
    "tags": []
   },
   "outputs": [],
   "source": [
    "steps.min()"
   ]
  },
  {
   "cell_type": "code",
   "execution_count": null,
   "id": "0c16ba93-24c7-4db1-a86d-530fdbd903e7",
   "metadata": {
    "tags": []
   },
   "outputs": [],
   "source": [
    "np.mean(steps)"
   ]
  },
  {
   "cell_type": "code",
   "execution_count": null,
   "id": "b033ebf9-9d69-48a1-9840-ce265ce834f7",
   "metadata": {
    "tags": []
   },
   "outputs": [],
   "source": [
    "(steps > 0.011).sum()"
   ]
  },
  {
   "cell_type": "code",
   "execution_count": null,
   "id": "5884d1fd-dd33-4c88-8b45-3ba7ca35898b",
   "metadata": {},
   "outputs": [],
   "source": [
    "dt = np.median(steps)\n",
    "dt"
   ]
  },
  {
   "cell_type": "code",
   "execution_count": null,
   "id": "3a358b21-692a-4a1b-8b2e-9e924bd79615",
   "metadata": {
    "tags": []
   },
   "outputs": [],
   "source": [
    "plt.hist(dt, bins=np.arange(0.001, 0.03, 0.001))"
   ]
  },
  {
   "cell_type": "code",
   "execution_count": null,
   "id": "cfcddb04-050a-425f-9c91-c8cb493b60c7",
   "metadata": {
    "tags": []
   },
   "outputs": [],
   "source": [
    "ps_vals['freq'] = np.fft.rfftfreq(len(df), d=dt)\n",
    "ps = ps_vals.copy()\n",
    "ps = ps.set_index('freq')\n",
    "ps.head()"
   ]
  },
  {
   "cell_type": "code",
   "execution_count": null,
   "id": "dbcb5f01-eb2e-47ee-bf48-0a56d1a1e83e",
   "metadata": {
    "tags": []
   },
   "outputs": [],
   "source": [
    "np.log10(ps).plot()"
   ]
  },
  {
   "cell_type": "code",
   "execution_count": null,
   "id": "f26e71ca-16c1-4548-82a1-42715b9ac5ae",
   "metadata": {
    "tags": []
   },
   "outputs": [],
   "source": [
    "# Forgot to normalize by dt^2\n",
    "ps *= dt**2"
   ]
  },
  {
   "cell_type": "code",
   "execution_count": null,
   "id": "c822646b-066a-4502-890b-ed5f417272fd",
   "metadata": {
    "tags": []
   },
   "outputs": [],
   "source": [
    "np.log10(ps.sum(axis=1)).plot()"
   ]
  },
  {
   "cell_type": "code",
   "execution_count": null,
   "id": "c7158a26-02ec-48b7-b9f9-d61bcd2f4990",
   "metadata": {},
   "outputs": [],
   "source": [
    "# Units should be log10(W/kg/Hz)"
   ]
  },
  {
   "cell_type": "code",
   "execution_count": null,
   "id": "ac6e281f-10e2-44af-80e7-fef375e45850",
   "metadata": {
    "tags": []
   },
   "outputs": [],
   "source": [
    "# Smooth\n",
    "pss = pd.DataFrame(ps.sum(axis=1)).rename({0: 'Smoothed Power'}, axis=1)\n",
    "pss['step10'] = np.floor(np.arange(len(pss)) / 100)\n",
    "pss = pss.reset_index().groupby('step10').mean().set_index('freq')[['Smoothed Power']]\n",
    "pss.head()"
   ]
  },
  {
   "cell_type": "code",
   "execution_count": null,
   "id": "4f716bf1-68e3-44da-a89b-21f532dd48a3",
   "metadata": {
    "tags": []
   },
   "outputs": [],
   "source": [
    "# Test functionalized\n",
    "# Smooth\n",
    "def smooth(data, smooth_window=10):\n",
    "    # Smooth is an int for the smoothing window\n",
    "    if smooth_window <= 1:\n",
    "        return data\n",
    "    df = data.copy()\n",
    "    df['step10'] = np.floor(np.arange(len(data)) / smooth_window)\n",
    "    df = df.reset_index().groupby('step10').mean().set_index(data.index.name)#.drop('step10', axis=1)\n",
    "    return df\n",
    "pss = smooth(ps, 100)\n",
    "pss.head()"
   ]
  },
  {
   "cell_type": "code",
   "execution_count": null,
   "id": "e3962176-f523-46b8-8b24-4f3b2e05eb59",
   "metadata": {
    "tags": []
   },
   "outputs": [],
   "source": [
    "pss['Smoothed Power'] = pss.sum(axis=1)"
   ]
  },
  {
   "cell_type": "code",
   "execution_count": null,
   "id": "d97ad873-d094-4af9-8721-e492ccf249ba",
   "metadata": {
    "tags": []
   },
   "outputs": [],
   "source": [
    "plot_util.generic_plot(np.log10(pss[['Smoothed Power']]), kind='line', xlabel='Hz', ylabel='log10(W/kg/Hz)?',\n",
    "                       title=file.parent.stem, output_directory=outputdir)"
   ]
  },
  {
   "cell_type": "code",
   "execution_count": null,
   "id": "44e4a853-86cf-4c4c-b699-e7632c3afac4",
   "metadata": {},
   "outputs": [],
   "source": [
    "# Try log x-axis\n",
    "plot_util.generic_plot(np.log10(pss).rename(np.log10, axis=0), kind='line', xlabel='Hz', ylabel='log10(W/kg/Hz)?',\n",
    "                       title=str(file.parent.stem) + '_logged', output_directory=outputdir)"
   ]
  },
  {
   "cell_type": "code",
   "execution_count": null,
   "id": "52ca0567-0869-4790-b6d0-a1235005ed76",
   "metadata": {},
   "outputs": [],
   "source": []
  }
 ],
 "metadata": {
  "kernelspec": {
   "display_name": "Python 3 (ipykernel)",
   "language": "python",
   "name": "python3"
  },
  "language_info": {
   "codemirror_mode": {
    "name": "ipython",
    "version": 3
   },
   "file_extension": ".py",
   "mimetype": "text/x-python",
   "name": "python",
   "nbconvert_exporter": "python",
   "pygments_lexer": "ipython3",
   "version": "3.11.4"
  }
 },
 "nbformat": 4,
 "nbformat_minor": 5
}
