{
 "cells": [
  {
   "cell_type": "code",
   "execution_count": null,
   "id": "c1c01f27-8a02-4f0b-9352-2dcd260f083b",
   "metadata": {
    "tags": []
   },
   "outputs": [],
   "source": [
    "import pandas as pd\n",
    "import numpy as np\n",
    "import pathlib\n",
    "import matplotlib.pyplot as plt\n",
    "\n",
    "#import sys\n",
    "#sys.path.append('../shared_geospatial_methods/')"
   ]
  },
  {
   "cell_type": "code",
   "execution_count": null,
   "id": "cdf81c28-4d51-420b-b499-5b23b2dcc7eb",
   "metadata": {
    "tags": []
   },
   "outputs": [],
   "source": [
    "inputdir = pathlib.Path.cwd() / 'Gforce'"
   ]
  },
  {
   "cell_type": "code",
   "execution_count": null,
   "id": "3c6ce29c-c743-4a89-a208-51540d46588c",
   "metadata": {
    "tags": []
   },
   "outputs": [],
   "source": [
    "files = list(inputdir.glob('*'))\n",
    "files"
   ]
  },
  {
   "cell_type": "code",
   "execution_count": null,
   "id": "453d0731-d56a-410b-a1b4-9d471831ce23",
   "metadata": {
    "tags": []
   },
   "outputs": [],
   "source": [
    "df1 = pd.read_csv(files[0])\n",
    "df1.head()"
   ]
  },
  {
   "cell_type": "code",
   "execution_count": null,
   "id": "966348db-44d9-42c6-aa72-ab4d5ceefbba",
   "metadata": {
    "tags": []
   },
   "outputs": [],
   "source": [
    "df1['time'].max()"
   ]
  },
  {
   "cell_type": "code",
   "execution_count": null,
   "id": "c9455da6-8eec-4478-a172-77046f4b5097",
   "metadata": {
    "tags": []
   },
   "outputs": [],
   "source": [
    "df1 = df1.rename({'time': 'gFx', 'gFx': 'gFy', 'gFy': 'gFz', 'gFz': 'norm'}, axis=1)\n",
    "df1.head()"
   ]
  },
  {
   "cell_type": "code",
   "execution_count": null,
   "id": "0ea82a7b-e831-4731-a3f5-4b56188882c5",
   "metadata": {
    "tags": []
   },
   "outputs": [],
   "source": [
    "df1.tail()"
   ]
  },
  {
   "cell_type": "code",
   "execution_count": null,
   "id": "863dae0a-5b29-44c8-86cf-190d76acdc1c",
   "metadata": {
    "tags": []
   },
   "outputs": [],
   "source": [
    "df1['timestep'] = np.arange(len(df1.index))\n",
    "df1 = df1.reset_index().set_index('timestep')[['gFx', 'gFy', 'gFz']]\n",
    "df1.head()"
   ]
  },
  {
   "cell_type": "code",
   "execution_count": null,
   "id": "e93190a6-aa83-4cc3-92cd-e16b24d02e76",
   "metadata": {
    "tags": []
   },
   "outputs": [],
   "source": [
    "len(df1)"
   ]
  },
  {
   "cell_type": "code",
   "execution_count": null,
   "id": "0f4f9012-f705-4815-ae4f-96a5870348a5",
   "metadata": {
    "tags": []
   },
   "outputs": [],
   "source": [
    "df1.plot()"
   ]
  },
  {
   "cell_type": "code",
   "execution_count": null,
   "id": "f8cbea6c-4e30-4739-9eb1-283bf7c094f2",
   "metadata": {
    "tags": []
   },
   "outputs": [],
   "source": [
    "df2 = pd.read_csv(files[1])"
   ]
  },
  {
   "cell_type": "code",
   "execution_count": null,
   "id": "e18dce02-065f-42c4-8a22-cf65ef6e24f2",
   "metadata": {
    "tags": []
   },
   "outputs": [],
   "source": [
    "df2.head()"
   ]
  },
  {
   "cell_type": "code",
   "execution_count": null,
   "id": "a1d91b84-b318-4682-a2f7-a20285b40223",
   "metadata": {
    "tags": []
   },
   "outputs": [],
   "source": [
    "df2 = pd.read_csv(files[2])\n",
    "df2.head()"
   ]
  },
  {
   "cell_type": "code",
   "execution_count": null,
   "id": "ba770b67-ddf6-41b9-b69a-19b2daae9b9e",
   "metadata": {
    "tags": []
   },
   "outputs": [],
   "source": [
    "df2.tail()"
   ]
  },
  {
   "cell_type": "code",
   "execution_count": null,
   "id": "49dc7608-ce42-4902-9743-ece58900331b",
   "metadata": {
    "tags": []
   },
   "outputs": [],
   "source": [
    "len(df2)"
   ]
  },
  {
   "cell_type": "code",
   "execution_count": null,
   "id": "42e73998-82c9-4736-87bb-c3ccc3a162d1",
   "metadata": {
    "tags": []
   },
   "outputs": [],
   "source": [
    "df2['timestep'] = np.arange(len(df2.index))\n",
    "df2 = df2.reset_index().set_index('timestep')[['gFx', 'gFy', 'gFz']]"
   ]
  },
  {
   "cell_type": "code",
   "execution_count": null,
   "id": "2610a776-6deb-48da-974e-9fbb2cd3c9f3",
   "metadata": {
    "tags": []
   },
   "outputs": [],
   "source": [
    "df2.head()"
   ]
  },
  {
   "cell_type": "code",
   "execution_count": null,
   "id": "e16601ed-f2c7-4d6e-a09e-1bf75609ef98",
   "metadata": {
    "tags": []
   },
   "outputs": [],
   "source": [
    "ps = df2.apply(np.fft.fft)\n",
    "ps.head()"
   ]
  },
  {
   "cell_type": "code",
   "execution_count": null,
   "id": "1535e339-f637-4bfc-83fc-76d17083ff98",
   "metadata": {
    "tags": []
   },
   "outputs": [],
   "source": [
    "ps = ps.applymap(lambda x: x * x.conjugate())\n",
    "ps.head()"
   ]
  },
  {
   "cell_type": "code",
   "execution_count": null,
   "id": "8e38a273-2224-434f-a0c9-1c13a8ea8155",
   "metadata": {
    "tags": []
   },
   "outputs": [],
   "source": [
    "ps = ps.applymap(np.real)"
   ]
  },
  {
   "cell_type": "code",
   "execution_count": null,
   "id": "8ae1295e-1f0c-4728-9e82-12e69330f775",
   "metadata": {
    "tags": []
   },
   "outputs": [],
   "source": [
    "ps.head()"
   ]
  },
  {
   "cell_type": "code",
   "execution_count": null,
   "id": "f41f397b-e903-47ce-a033-d9b889cf6fdd",
   "metadata": {
    "tags": []
   },
   "outputs": [],
   "source": [
    "ps.plot()"
   ]
  },
  {
   "cell_type": "code",
   "execution_count": null,
   "id": "080db4fc-0f36-43b6-aea1-9e6166c8ffee",
   "metadata": {
    "tags": []
   },
   "outputs": [],
   "source": [
    "ps['freq'] = np.fft.fftfreq(len(ps))\n",
    "ps.head()"
   ]
  },
  {
   "cell_type": "code",
   "execution_count": null,
   "id": "1a959ff2-223e-4d01-8d21-fd716275f48f",
   "metadata": {
    "tags": []
   },
   "outputs": [],
   "source": [
    "ps = ps.reset_index().drop('timestep', axis=1).set_index('freq')\n",
    "ps.head()"
   ]
  },
  {
   "cell_type": "code",
   "execution_count": null,
   "id": "a0768475-0b88-4037-bb07-92e54d72cf6e",
   "metadata": {
    "tags": []
   },
   "outputs": [],
   "source": [
    "ps['ps'] = ps.sum(axis=1)\n",
    "ps = ps[['ps']]\n",
    "ps.head()"
   ]
  },
  {
   "cell_type": "code",
   "execution_count": null,
   "id": "03d80ac7-1045-4730-b50a-9e22240ca4bf",
   "metadata": {
    "tags": []
   },
   "outputs": [],
   "source": [
    "ps = ps.rename(lambda x: x * 100, axis=0)\n",
    "ps.head()"
   ]
  },
  {
   "cell_type": "code",
   "execution_count": null,
   "id": "2eaec1b7-3da4-4def-9db3-692331326341",
   "metadata": {
    "tags": []
   },
   "outputs": [],
   "source": [
    "ps.tail()"
   ]
  },
  {
   "cell_type": "code",
   "execution_count": null,
   "id": "fb51f4f7-7dac-4eb7-9f2f-d12c1b2753ca",
   "metadata": {
    "tags": []
   },
   "outputs": [],
   "source": [
    "ps.iloc[8000]"
   ]
  },
  {
   "cell_type": "code",
   "execution_count": null,
   "id": "18188def-9928-46e5-9c5e-e17acdfb29c8",
   "metadata": {
    "tags": []
   },
   "outputs": [],
   "source": [
    "ps.min()"
   ]
  },
  {
   "cell_type": "code",
   "execution_count": null,
   "id": "0d6f3e5c-9a5b-480c-9461-5bb642a88999",
   "metadata": {
    "tags": []
   },
   "outputs": [],
   "source": [
    "ps = ps.reset_index()\n",
    "ps = ps[ps['freq'] > 0]\n",
    "ps = ps.set_index('freq')\n",
    "ps.tail()"
   ]
  },
  {
   "cell_type": "code",
   "execution_count": null,
   "id": "6b7eb4d9-c614-43d1-93e6-c45329e53cc5",
   "metadata": {
    "tags": []
   },
   "outputs": [],
   "source": [
    "np.log10(ps).plot()"
   ]
  },
  {
   "cell_type": "code",
   "execution_count": null,
   "id": "a9f44a86-5770-4289-b2a2-cfa2393bb244",
   "metadata": {
    "tags": []
   },
   "outputs": [],
   "source": [
    "ps['step10'] = np.floor(np.arange(len(ps.index)) / 10)\n",
    "ps.head(20)"
   ]
  },
  {
   "cell_type": "code",
   "execution_count": null,
   "id": "7f75c8e5-4a5f-4a7d-960c-8634c77326df",
   "metadata": {
    "tags": []
   },
   "outputs": [],
   "source": [
    "ps_smooth = ps.reset_index().groupby('step10').mean().set_index('freq')\n",
    "ps_smooth.head()"
   ]
  },
  {
   "cell_type": "code",
   "execution_count": null,
   "id": "2e6ba5cf-21fd-4ab7-9f94-77db06f0f8af",
   "metadata": {
    "tags": []
   },
   "outputs": [],
   "source": [
    "np.log10(ps_smooth).plot()"
   ]
  },
  {
   "cell_type": "code",
   "execution_count": null,
   "id": "a94fed25-c285-4276-82af-9ea836843ce1",
   "metadata": {},
   "outputs": [],
   "source": []
  }
 ],
 "metadata": {
  "kernelspec": {
   "display_name": "Python 3 (ipykernel)",
   "language": "python",
   "name": "python3"
  },
  "language_info": {
   "codemirror_mode": {
    "name": "ipython",
    "version": 3
   },
   "file_extension": ".py",
   "mimetype": "text/x-python",
   "name": "python",
   "nbconvert_exporter": "python",
   "pygments_lexer": "ipython3",
   "version": "3.13.2"
  }
 },
 "nbformat": 4,
 "nbformat_minor": 5
}
